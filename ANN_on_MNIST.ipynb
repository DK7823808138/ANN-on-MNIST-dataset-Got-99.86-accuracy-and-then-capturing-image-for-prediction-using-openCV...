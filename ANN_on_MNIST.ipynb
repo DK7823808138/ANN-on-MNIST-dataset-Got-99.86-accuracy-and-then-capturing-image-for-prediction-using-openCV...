{
 "cells": [
  {
   "cell_type": "markdown",
   "metadata": {},
   "source": [
    "# ANN on MNIST dataset (Got 99.86% accuracy) and then capturing image for prediction using openCV...\n",
    "### Ameet Kumar Rana, Army Institute Of Technology Pune"
   ]
  },
  {
   "cell_type": "code",
   "execution_count": 1,
   "metadata": {},
   "outputs": [],
   "source": [
    "import numpy as np\n",
    "import pandas as pd"
   ]
  },
  {
   "cell_type": "code",
   "execution_count": 2,
   "metadata": {},
   "outputs": [],
   "source": [
    "train = pd.read_csv('data/mnist_train.csv')           #imported training dataset"
   ]
  },
  {
   "cell_type": "code",
   "execution_count": 3,
   "metadata": {},
   "outputs": [],
   "source": [
    "test = pd.read_csv('data/mnist_test.csv')             #imported test dataset"
   ]
  },
  {
   "cell_type": "code",
   "execution_count": 4,
   "metadata": {},
   "outputs": [
    {
     "name": "stdout",
     "output_type": "stream",
     "text": [
      "(60000, 785)\n",
      "(10000, 785)\n"
     ]
    }
   ],
   "source": [
    "print(train.shape)                                    #shape of datasets imported\n",
    "print(test.shape)"
   ]
  },
  {
   "cell_type": "code",
   "execution_count": 5,
   "metadata": {},
   "outputs": [
    {
     "data": {
      "text/plain": [
       "1    6742\n",
       "7    6265\n",
       "3    6131\n",
       "2    5958\n",
       "9    5949\n",
       "0    5923\n",
       "6    5918\n",
       "8    5851\n",
       "4    5842\n",
       "5    5421\n",
       "Name: label, dtype: int64"
      ]
     },
     "execution_count": 5,
     "metadata": {},
     "output_type": "execute_result"
    }
   ],
   "source": [
    "train.iloc[:,0].value_counts()                        #checking the count of images under each category"
   ]
  },
  {
   "cell_type": "code",
   "execution_count": 6,
   "metadata": {},
   "outputs": [],
   "source": [
    "train_x = train.iloc[:,1:785]                         #separating image and label for training dataset\n",
    "train_y = train.iloc[:,0]"
   ]
  },
  {
   "cell_type": "code",
   "execution_count": 7,
   "metadata": {},
   "outputs": [],
   "source": [
    "test_x = test.iloc[:,1:785]                           #separating image and label for test dataset\n",
    "test_y = test.iloc[:,0]"
   ]
  },
  {
   "cell_type": "code",
   "execution_count": 8,
   "metadata": {},
   "outputs": [
    {
     "data": {
      "text/plain": [
       "(60000, 784)"
      ]
     },
     "execution_count": 8,
     "metadata": {},
     "output_type": "execute_result"
    }
   ],
   "source": [
    "train_x.shape"
   ]
  },
  {
   "cell_type": "code",
   "execution_count": 9,
   "metadata": {},
   "outputs": [
    {
     "data": {
      "text/plain": [
       "(60000,)"
      ]
     },
     "execution_count": 9,
     "metadata": {},
     "output_type": "execute_result"
    }
   ],
   "source": [
    "train_y.shape"
   ]
  },
  {
   "cell_type": "code",
   "execution_count": 10,
   "metadata": {},
   "outputs": [
    {
     "data": {
      "text/plain": [
       "(10000, 784)"
      ]
     },
     "execution_count": 10,
     "metadata": {},
     "output_type": "execute_result"
    }
   ],
   "source": [
    "test_x.shape"
   ]
  },
  {
   "cell_type": "code",
   "execution_count": 11,
   "metadata": {},
   "outputs": [
    {
     "data": {
      "text/plain": [
       "(10000,)"
      ]
     },
     "execution_count": 11,
     "metadata": {},
     "output_type": "execute_result"
    }
   ],
   "source": [
    "test_y.shape"
   ]
  },
  {
   "cell_type": "code",
   "execution_count": 12,
   "metadata": {},
   "outputs": [],
   "source": [
    "from sklearn.model_selection import train_test_split    #for dividing training data into two parts"
   ]
  },
  {
   "cell_type": "code",
   "execution_count": 13,
   "metadata": {},
   "outputs": [],
   "source": [
    "x_train,x_cv,y_train,y_cv = train_test_split(train_x,train_y, test_size = 0.25 , random_state = 35)"
   ]
  },
  {
   "cell_type": "code",
   "execution_count": 14,
   "metadata": {},
   "outputs": [
    {
     "name": "stdout",
     "output_type": "stream",
     "text": [
      "(45000, 784)\n",
      "(15000, 784)\n",
      "(45000,)\n",
      "(15000,)\n"
     ]
    }
   ],
   "source": [
    "print(x_train.shape)\n",
    "print(x_cv.shape)\n",
    "\n",
    "print(y_train.shape)\n",
    "print(y_cv.shape)"
   ]
  },
  {
   "cell_type": "code",
   "execution_count": 15,
   "metadata": {},
   "outputs": [],
   "source": [
    "x_train = np.asmatrix(x_train).reshape(45000,784)           #reshaping into right diamension from flat matrix\n",
    "x_cv = np.asmatrix(x_cv).reshape(15000,784)\n",
    "\n",
    "test_x = np.asmatrix(test_x).reshape(10000,784)"
   ]
  },
  {
   "cell_type": "code",
   "execution_count": 17,
   "metadata": {},
   "outputs": [
    {
     "data": {
      "text/plain": [
       "<matplotlib.image.AxesImage at 0x7fdead4da2b0>"
      ]
     },
     "execution_count": 17,
     "metadata": {},
     "output_type": "execute_result"
    },
    {
     "data": {
      "image/png": "[encoded data removed]",
      "text/plain": [
       "<Figure size 432x288 with 1 Axes>"
      ]
     },
     "metadata": {},
     "output_type": "display_data"
    }
   ],
   "source": [
    "te = np.array(train_x.iloc[2,:])                            #checking data by printing one image\n",
    "#te = np.asmatrix(te).reshape(28,28)\n",
    "\n",
    "import matplotlib.pyplot as plt\n",
    "plt.gray()\n",
    "plt.imshow(te.reshape(28,28))"
   ]
  },
  {
   "cell_type": "code",
   "execution_count": 18,
   "metadata": {},
   "outputs": [],
   "source": [
    "x_train = x_train.astype('float32')                          #converted each value to float datatype\n",
    "x_cv = x_cv.astype('float32')\n",
    "\n",
    "test_x = train_x.astype('float32')"
   ]
  },
  {
   "cell_type": "code",
   "execution_count": 19,
   "metadata": {},
   "outputs": [],
   "source": [
    "x_train /= 255                                              #ranging values to fall them in range (0,1)\n",
    "x_cv /= 255\n",
    "\n",
    "test_x /= 255"
   ]
  },
  {
   "cell_type": "code",
   "execution_count": 20,
   "metadata": {},
   "outputs": [
    {
     "name": "stderr",
     "output_type": "stream",
     "text": [
      "Using TensorFlow backend.\n"
     ]
    }
   ],
   "source": [
    "import keras"
   ]
  },
  {
   "cell_type": "code",
   "execution_count": 21,
   "metadata": {},
   "outputs": [],
   "source": [
    "total_dig = 10                                              #final output neurons\n",
    "\n",
    "y_train = keras.utils.to_categorical(y_train,total_dig)        #making categorical matrix for each image label\n",
    "y_cv = keras.utils.to_categorical(y_cv,total_dig)"
   ]
  },
  {
   "cell_type": "code",
   "execution_count": 22,
   "metadata": {},
   "outputs": [
    {
     "name": "stdout",
     "output_type": "stream",
     "text": [
      "[0. 0. 0. 0. 0. 0. 1. 0. 0. 0.]\n",
      "[0. 1. 0. 0. 0. 0. 0. 0. 0. 0.]\n",
      "[0. 0. 0. 0. 0. 0. 0. 0. 1. 0.]\n"
     ]
    }
   ],
   "source": [
    "print(y_train[0])\n",
    "print(y_train[3])\n",
    "print(y_train[45])"
   ]
  },
  {
   "cell_type": "code",
   "execution_count": 23,
   "metadata": {},
   "outputs": [],
   "source": [
    "from keras.models import Sequential\n",
    "from keras.layers import Dense\n",
    "from keras import optimizers"
   ]
  },
  {
   "cell_type": "code",
   "execution_count": 24,
   "metadata": {},
   "outputs": [
    {
     "name": "stdout",
     "output_type": "stream",
     "text": [
      "WARNING:tensorflow:From /usr/local/lib/python3.6/dist-packages/tensorflow/python/framework/op_def_library.py:263: colocate_with (from tensorflow.python.framework.ops) is deprecated and will be removed in a future version.\n",
      "Instructions for updating:\n",
      "Colocations handled automatically by placer.\n"
     ]
    },
    {
     "name": "stderr",
     "output_type": "stream",
     "text": [
      "/usr/lib/python3/dist-packages/ipykernel_launcher.py:3: UserWarning: Update your `Dense` call to the Keras 2 API: `Dense(activation=\"relu\", input_dim=784, units=400, kernel_initializer=\"uniform\")`\n",
      "  This is separate from the ipykernel package so we can avoid doing imports until\n"
     ]
    }
   ],
   "source": [
    "classifier = Sequential()                              #created object\n",
    "\n",
    "classifier.add(Dense(output_dim = 400, init = 'uniform' , activation = 'relu' , input_dim = 784))  #1st layer"
   ]
  },
  {
   "cell_type": "code",
   "execution_count": 25,
   "metadata": {},
   "outputs": [
    {
     "name": "stderr",
     "output_type": "stream",
     "text": [
      "/usr/lib/python3/dist-packages/ipykernel_launcher.py:1: UserWarning: Update your `Dense` call to the Keras 2 API: `Dense(activation=\"relu\", units=300, kernel_initializer=\"uniform\")`\n",
      "  \"\"\"Entry point for launching an IPython kernel.\n",
      "/usr/lib/python3/dist-packages/ipykernel_launcher.py:3: UserWarning: Update your `Dense` call to the Keras 2 API: `Dense(activation=\"relu\", units=300, kernel_initializer=\"uniform\")`\n",
      "  This is separate from the ipykernel package so we can avoid doing imports until\n",
      "/usr/lib/python3/dist-packages/ipykernel_launcher.py:5: UserWarning: Update your `Dense` call to the Keras 2 API: `Dense(activation=\"relu\", units=300, kernel_initializer=\"uniform\")`\n",
      "  \"\"\"\n"
     ]
    }
   ],
   "source": [
    "classifier.add(Dense(output_dim = 300 , init = 'uniform' , activation = 'relu'))      #2nd layer\n",
    "\n",
    "classifier.add(Dense(output_dim = 300 , init = 'uniform' , activation = 'relu'))     #3rd layer\n",
    "\n",
    "classifier.add(Dense(output_dim = 300 , init = 'uniform' , activation = 'relu'))     #4th layer"
   ]
  },
  {
   "cell_type": "code",
   "execution_count": 26,
   "metadata": {},
   "outputs": [
    {
     "name": "stderr",
     "output_type": "stream",
     "text": [
      "/usr/lib/python3/dist-packages/ipykernel_launcher.py:1: UserWarning: Update your `Dense` call to the Keras 2 API: `Dense(activation=\"softmax\", units=10, kernel_initializer=\"uniform\")`\n",
      "  \"\"\"Entry point for launching an IPython kernel.\n"
     ]
    }
   ],
   "source": [
    "classifier.add(Dense(output_dim = 10 , init = 'uniform' , activation = 'softmax'))        #output layer"
   ]
  },
  {
   "cell_type": "code",
   "execution_count": 27,
   "metadata": {},
   "outputs": [
    {
     "name": "stdout",
     "output_type": "stream",
     "text": [
      "_________________________________________________________________\n",
      "Layer (type)                 Output Shape              Param #   \n",
      "=================================================================\n",
      "dense_1 (Dense)              (None, 400)               314000    \n",
      "_________________________________________________________________\n",
      "dense_2 (Dense)              (None, 300)               120300    \n",
      "_________________________________________________________________\n",
      "dense_3 (Dense)              (None, 300)               90300     \n",
      "_________________________________________________________________\n",
      "dense_4 (Dense)              (None, 300)               90300     \n",
      "_________________________________________________________________\n",
      "dense_5 (Dense)              (None, 10)                3010      \n",
      "=================================================================\n",
      "Total params: 617,910\n",
      "Trainable params: 617,910\n",
      "Non-trainable params: 0\n",
      "_________________________________________________________________\n"
     ]
    }
   ],
   "source": [
    "classifier.summary()                    #Dense layer summary"
   ]
  },
  {
   "cell_type": "code",
   "execution_count": 28,
   "metadata": {},
   "outputs": [],
   "source": [
    "learnin_rate = 0.1                                         #learning hyperparameter\n",
    "adam = optimizers.Adam(lr = learnin_rate)       #using adam which is a type of SGD"
   ]
  },
  {
   "cell_type": "code",
   "execution_count": 29,
   "metadata": {},
   "outputs": [
    {
     "name": "stdout",
     "output_type": "stream",
     "text": [
      "WARNING:tensorflow:From /usr/local/lib/python3.6/dist-packages/tensorflow/python/ops/math_ops.py:3066: to_int32 (from tensorflow.python.ops.math_ops) is deprecated and will be removed in a future version.\n",
      "Instructions for updating:\n",
      "Use tf.cast instead.\n",
      "Epoch 1/25\n",
      "45000/45000 [==============================] - 33s 729us/step - loss: 0.3543 - acc: 0.8916\n",
      "Epoch 2/25\n",
      "45000/45000 [==============================] - 34s 754us/step - loss: 0.1221 - acc: 0.9632\n",
      "Epoch 3/25\n",
      "45000/45000 [==============================] - 36s 800us/step - loss: 0.0809 - acc: 0.9758\n",
      "Epoch 4/25\n",
      "45000/45000 [==============================] - 37s 820us/step - loss: 0.0609 - acc: 0.9812\n",
      "Epoch 5/25\n",
      "45000/45000 [==============================] - 33s 732us/step - loss: 0.0462 - acc: 0.9856\n",
      "Epoch 6/25\n",
      "45000/45000 [==============================] - 33s 727us/step - loss: 0.0374 - acc: 0.9885\n",
      "Epoch 7/25\n",
      "45000/45000 [==============================] - 32s 709us/step - loss: 0.0341 - acc: 0.9895\n",
      "Epoch 8/25\n",
      "45000/45000 [==============================] - 36s 795us/step - loss: 0.0283 - acc: 0.9912\n",
      "Epoch 9/25\n",
      "45000/45000 [==============================] - 38s 836us/step - loss: 0.0248 - acc: 0.9924\n",
      "Epoch 10/25\n",
      "45000/45000 [==============================] - 38s 847us/step - loss: 0.0226 - acc: 0.9930\n",
      "Epoch 11/25\n",
      "45000/45000 [==============================] - 45s 1ms/step - loss: 0.0201 - acc: 0.9936\n",
      "Epoch 12/25\n",
      "45000/45000 [==============================] - 45s 996us/step - loss: 0.0219 - acc: 0.9935\n",
      "Epoch 13/25\n",
      "45000/45000 [==============================] - 45s 1ms/step - loss: 0.0175 - acc: 0.9948\n",
      "Epoch 14/25\n",
      "45000/45000 [==============================] - 48s 1ms/step - loss: 0.0145 - acc: 0.9954\n",
      "Epoch 15/25\n",
      "45000/45000 [==============================] - 38s 844us/step - loss: 0.0181 - acc: 0.9948\n",
      "Epoch 16/25\n",
      "45000/45000 [==============================] - 38s 835us/step - loss: 0.0148 - acc: 0.9960\n",
      "Epoch 17/25\n",
      "45000/45000 [==============================] - 38s 852us/step - loss: 0.0129 - acc: 0.9963\n",
      "Epoch 18/25\n",
      "45000/45000 [==============================] - 43s 951us/step - loss: 0.0092 - acc: 0.9971\n",
      "Epoch 19/25\n",
      "45000/45000 [==============================] - 42s 925us/step - loss: 0.0105 - acc: 0.9970\n",
      "Epoch 20/25\n",
      "45000/45000 [==============================] - 34s 748us/step - loss: 0.0136 - acc: 0.9960\n",
      "Epoch 21/25\n",
      "45000/45000 [==============================] - 34s 759us/step - loss: 0.0111 - acc: 0.9967\n",
      "Epoch 22/25\n",
      "45000/45000 [==============================] - 41s 905us/step - loss: 0.0097 - acc: 0.9975\n",
      "Epoch 23/25\n",
      "45000/45000 [==============================] - 34s 755us/step - loss: 0.0102 - acc: 0.9974\n",
      "Epoch 24/25\n",
      "45000/45000 [==============================] - 34s 749us/step - loss: 0.0127 - acc: 0.9962\n",
      "Epoch 25/25\n",
      "45000/45000 [==============================] - 34s 759us/step - loss: 0.0052 - acc: 0.9986\n"
     ]
    },
    {
     "data": {
      "text/plain": [
       "<keras.callbacks.History at 0x7fdeba9df278>"
      ]
     },
     "execution_count": 29,
     "metadata": {},
     "output_type": "execute_result"
    }
   ],
   "source": [
    "classifier.compile(optimizer = 'adam' , loss = 'categorical_crossentropy' , metrics = ['accuracy'])\n",
    "\n",
    "classifier.fit(x_train , y_train , batch_size = 100 , epochs = 25)       #training the data "
   ]
  },
  {
   "cell_type": "code",
   "execution_count": 30,
   "metadata": {},
   "outputs": [],
   "source": [
    "y_pred = classifier.predict(x_cv)                 #making the prediction"
   ]
  },
  {
   "cell_type": "code",
   "execution_count": 31,
   "metadata": {},
   "outputs": [],
   "source": [
    "y_pred = (y_pred > 0.5)"
   ]
  },
  {
   "cell_type": "code",
   "execution_count": 32,
   "metadata": {},
   "outputs": [],
   "source": [
    "y_pred = y_pred.astype('int64')\n",
    "y_cv = y_cv.astype('int64')"
   ]
  },
  {
   "cell_type": "code",
   "execution_count": 33,
   "metadata": {},
   "outputs": [],
   "source": [
    "y = np.argmax(y_cv , axis = 1)\n",
    "y_p = np.argmax(y_pred , axis = 1) "
   ]
  },
  {
   "cell_type": "code",
   "execution_count": 34,
   "metadata": {},
   "outputs": [
    {
     "data": {
      "text/plain": [
       "array([[1473,    0,    0,    0,    0,    1,    6,    0,    2,    1],\n",
       "       [   0, 1677,    3,    0,    0,    1,    2,    3,    6,    1],\n",
       "       [   7,    9, 1467,    3,    1,    0,    1,    9,    2,    1],\n",
       "       [   2,    3,   13, 1490,    0,   12,    0,    5,    6,    1],\n",
       "       [   8,    2,    6,    0, 1420,    0,    4,    6,    3,   19],\n",
       "       [  10,    0,    1,    5,    3, 1296,   10,    2,    6,    2],\n",
       "       [   6,    0,    2,    0,    4,    3, 1439,    0,    3,    0],\n",
       "       [   1,    2,    7,    4,    4,    1,    1, 1534,    0,    4],\n",
       "       [   6,    8,    7,    4,    1,    8,    4,    4, 1448,    2],\n",
       "       [   6,    3,    1,    9,    6,    4,    1,   11,    8, 1433]])"
      ]
     },
     "execution_count": 34,
     "metadata": {},
     "output_type": "execute_result"
    }
   ],
   "source": [
    "from sklearn.metrics import confusion_matrix                   #confusion matrix to see the total no of correct output\n",
    "cm = confusion_matrix(y,y_p)\n",
    "cm"
   ]
  },
  {
   "cell_type": "code",
   "execution_count": 35,
   "metadata": {},
   "outputs": [],
   "source": [
    "import cv2                                    #imported openCV to capture image"
   ]
  },
  {
   "cell_type": "code",
   "execution_count": 36,
   "metadata": {},
   "outputs": [
    {
     "name": "stdout",
     "output_type": "stream",
     "text": [
      "yess_0.png written!\n",
      "Escape hit, closing...\n"
     ]
    }
   ],
   "source": [
    "cam = cv2.VideoCapture(0)                  #0 is for primary camera\n",
    "\n",
    "cv2.namedWindow(\"test\")\n",
    "\n",
    "img_counter = 0\n",
    "\n",
    "while True:\n",
    "    ret, frame = cam.read()\n",
    "    cv2.imshow(\"test\", frame)\n",
    "    if not ret:\n",
    "        break\n",
    "    k = cv2.waitKey(1)\n",
    "\n",
    "    if k%256 == 27:\n",
    "        # ESC pressed\n",
    "        print(\"Escape hit, closing...\")\n",
    "        break\n",
    "    elif k%256 == 32:\n",
    "        # SPACE pressed\n",
    "        img_name = \"yess_{}.png\".format(img_counter)\n",
    "        cv2.imwrite(img_name, frame)\n",
    "        print(\"{} written!\".format(img_name))\n",
    "        img_counter += 1\n",
    "\n",
    "cam.release()\n",
    "\n",
    "cv2.destroyAllWindows()"
   ]
  },
  {
   "cell_type": "code",
   "execution_count": 37,
   "metadata": {},
   "outputs": [],
   "source": [
    "img = cv2.imread('yess.jpg',cv2.IMREAD_GRAYSCALE)      #change yess to yess_0 to use your captured image to predict"
   ]
  },
  {
   "cell_type": "code",
   "execution_count": 38,
   "metadata": {},
   "outputs": [],
   "source": [
    "resized = cv2.resize(img, (28,28))                     #reshaped captured image"
   ]
  },
  {
   "cell_type": "code",
   "execution_count": 39,
   "metadata": {},
   "outputs": [
    {
     "data": {
      "text/plain": [
       "(28, 28)"
      ]
     },
     "execution_count": 39,
     "metadata": {},
     "output_type": "execute_result"
    }
   ],
   "source": [
    "resized.shape"
   ]
  },
  {
   "cell_type": "code",
   "execution_count": 40,
   "metadata": {},
   "outputs": [],
   "source": [
    "cv2.imshow('Resized Image',resized)\n",
    "cv2.waitKey(0)\n",
    "cv2.destroyAllWindows()"
   ]
  },
  {
   "cell_type": "code",
   "execution_count": 41,
   "metadata": {},
   "outputs": [],
   "source": [
    "det = resized.flatten()                         #processing captured image\n",
    "det = det.astype('float32')\n",
    "det /= 255"
   ]
  },
  {
   "cell_type": "code",
   "execution_count": 42,
   "metadata": {},
   "outputs": [],
   "source": [
    "det = det.reshape(1,784)\n",
    "det = det > 0.5"
   ]
  },
  {
   "cell_type": "code",
   "execution_count": 43,
   "metadata": {},
   "outputs": [],
   "source": [
    "det = det.astype('int64')"
   ]
  },
  {
   "cell_type": "code",
   "execution_count": 44,
   "metadata": {},
   "outputs": [],
   "source": [
    "y_det = classifier.predict(det)"
   ]
  },
  {
   "cell_type": "code",
   "execution_count": 45,
   "metadata": {},
   "outputs": [
    {
     "data": {
      "text/plain": [
       "array([[3.8737683e-10, 5.6583409e-09, 2.8384213e-06, 1.5966496e-05,\n",
       "        2.0548672e-11, 2.7984294e-08, 1.1569471e-07, 1.7244189e-10,\n",
       "        9.9998105e-01, 2.0698998e-09]], dtype=float32)"
      ]
     },
     "execution_count": 45,
     "metadata": {},
     "output_type": "execute_result"
    }
   ],
   "source": [
    "y_det"
   ]
  },
  {
   "cell_type": "code",
   "execution_count": 46,
   "metadata": {},
   "outputs": [
    {
     "data": {
      "text/plain": [
       "(1, 10)"
      ]
     },
     "execution_count": 46,
     "metadata": {},
     "output_type": "execute_result"
    }
   ],
   "source": [
    "y_det.shape"
   ]
  },
  {
   "cell_type": "code",
   "execution_count": 47,
   "metadata": {},
   "outputs": [],
   "source": [
    "final_predicted = np.argmax(y_det , axis = 1)"
   ]
  },
  {
   "cell_type": "code",
   "execution_count": 48,
   "metadata": {},
   "outputs": [
    {
     "name": "stdout",
     "output_type": "stream",
     "text": [
      "[8]\n"
     ]
    }
   ],
   "source": [
    "print(final_predicted)                            #printing final captured image's prediction"
   ]
  },
  {
   "cell_type": "code",
   "execution_count": null,
   "metadata": {},
   "outputs": [],
   "source": []
  }
 ],
 "metadata": {
  "kernelspec": {
   "display_name": "Python 3",
   "language": "python",
   "name": "python3"
  },
  "language_info": {
   "codemirror_mode": {
    "name": "ipython",
    "version": 3
   },
   "file_extension": ".py",
   "mimetype": "text/x-python",
   "name": "python",
   "nbconvert_exporter": "python",
   "pygments_lexer": "ipython3",
   "version": "3.6.8"
  }
 },
 "nbformat": 4,
 "nbformat_minor": 2
}
